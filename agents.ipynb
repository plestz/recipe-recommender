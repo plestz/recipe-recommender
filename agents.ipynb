{
 "cells": [
  {
   "cell_type": "code",
   "execution_count": 16,
   "metadata": {},
   "outputs": [],
   "source": [
    "import os\n",
    "import getpass\n",
    "\n",
    "import pandas as pd\n",
    "import matplotlib.pyplot as plt\n",
    "\n",
    "from typing import Sequence\n",
    "\n",
    "import autogen\n",
    "from autogen_core.models import UserMessage\n",
    "from autogen_ext.models.openai import OpenAIChatCompletionClient\n",
    "from autogen_agentchat.agents import AssistantAgent, UserProxyAgent\n",
    "from autogen_agentchat.conditions import TextMessageTermination, TimeoutTermination, MaxMessageTermination\n",
    "from autogen_agentchat.messages import AgentEvent, ChatMessage, TextMessage, MultiModalMessage\n",
    "from autogen_agentchat.teams import RoundRobinGroupChat, SelectorGroupChat\n",
    "from autogen_agentchat.ui import Console"
   ]
  },
  {
   "cell_type": "code",
   "execution_count": null,
   "metadata": {},
   "outputs": [],
   "source": [
    "# Load your API key\n",
    "if not os.environ.get(\"OPENAI_API_KEY\"):\n",
    "    os.environ[\"OPENAI_API_KEY\"] = getpass.getpass(\"Enter your OpenAI API key: \")"
   ]
  },
  {
   "cell_type": "code",
   "execution_count": null,
   "metadata": {},
   "outputs": [],
   "source": [
    "# Create OpenAI model client for inference\n",
    "openai_model_client = OpenAIChatCompletionClient(\n",
    "    model = \"gpt-4o-mini\",\n",
    "    api_key = os.environ.get(\"OPENAI_API_KEY\")\n",
    ")"
   ]
  },
  {
   "cell_type": "code",
   "execution_count": null,
   "metadata": {},
   "outputs": [
    {
     "name": "stdout",
     "output_type": "stream",
     "text": [
      "finish_reason='stop' content='The capital of France is Paris.' usage=RequestUsage(prompt_tokens=15, completion_tokens=8) cached=False logprobs=None thought=None\n"
     ]
    }
   ],
   "source": [
    "# Successful basic user test!\n",
    "\n",
    "# test_user_message = UserMessage(content = \"What is the capital of France?\", source = \"user\")\n",
    "# result = await openai_model_client.create([test_user_message])\n",
    "# print(result)"
   ]
  },
  {
   "cell_type": "code",
   "execution_count": 17,
   "metadata": {},
   "outputs": [],
   "source": [
    "# Define all model tools\n",
    "def search_web_tool(query: str) -> str:\n",
    "    \"\"\"Searches web for relevant information.\"\"\"\n",
    "    # Call API!\n",
    "    return \"The start was 10 and the end was 15.\"\n",
    "\n",
    "def percentage_change_tool(start: float, end: float) -> float:\n",
    "    \"\"\"Finds the percentage change between start and end.\"\"\"\n",
    "    return ((end - start) / start) * 100\n",
    "\n",
    "def addition_tool(first: float, second: float) -> float:\n",
    "    \"\"\"Adds two numbers together.\"\"\"\n",
    "    return first + second"
   ]
  },
  {
   "cell_type": "code",
   "execution_count": 18,
   "metadata": {},
   "outputs": [],
   "source": [
    "# Define all agents\n",
    "planning_agent = AssistantAgent(\n",
    "    name = \"PlanningAgent\",\n",
    "    model_client = openai_model_client,\n",
    "    description = \"An agent for planning tasks, this agent should be the first to engage the task.\",\n",
    "    system_message = \"\"\"\n",
    "        You are a planning agent.\n",
    "        Your job is to break down complex tasks into smaller, manageable subtasks.\n",
    "        Your team members are:\n",
    "            - web_search_agent: Searches for information\n",
    "            - data_manipulator_agent: Performs calculations and ranks results by relevance\n",
    "\n",
    "        You only plan and delegate tasks - you do not execute them yourself.\n",
    "\n",
    "        When assigning tasks, use this format:\n",
    "        N. <agent> : <task>\n",
    "\n",
    "        After all tasks are complete, summarize the findings and end with \"TERMINATE\".\n",
    "    \"\"\"\n",
    ")\n",
    "\n",
    "web_search_agent = AssistantAgent(\n",
    "    name = \"WebSearchAgent\",\n",
    "    model_client = openai_model_client,\n",
    "    description = \"A web search agent for relevant results.\",\n",
    "    tools = [search_web_tool],\n",
    "    system_message = \"\"\"\n",
    "        You are a web search agent.\n",
    "        Your only tool is search_web_tool - use it to find information.\n",
    "        You make only one search call at a time.\n",
    "        Once you have the results, you never do calculations based on them.\n",
    "    \"\"\"\n",
    ")\n",
    "\n",
    "data_manipulator_agent = AssistantAgent(\n",
    "    name = \"DataManipulatorAgent\",\n",
    "    model_client = openai_model_client,\n",
    "    description = \"A data manipulator agent. Useful for performing calculations and ranking items according to relevance.\",\n",
    "    tools = [percentage_change_tool, addition_tool],\n",
    "    system_message = \"\"\"\n",
    "        You are a data manipulator agent.\n",
    "        Given the tasks you have been assigned, you should analyze the data and provide results.\n",
    "    \"\"\"\n",
    ")"
   ]
  },
  {
   "cell_type": "code",
   "execution_count": 21,
   "metadata": {},
   "outputs": [],
   "source": [
    "# Set up the multi-agent team, rotation, and termination conditions\n",
    "\n",
    "text_mention_termination = TextMessageTermination(\"TERMINATE\")\n",
    "max_messages_termination = MaxMessageTermination(max_messages = 25)\n",
    "timeout_termination = TimeoutTermination(timeout_seconds = 10)\n",
    "\n",
    "termination = text_mention_termination | max_messages_termination\n",
    "\n",
    "team = SelectorGroupChat(\n",
    "    participants = [planning_agent, web_search_agent, data_manipulator_agent],\n",
    "    model_client = openai_model_client,\n",
    "    termination_condition = termination\n",
    ")"
   ]
  },
  {
   "cell_type": "code",
   "execution_count": null,
   "metadata": {},
   "outputs": [
    {
     "name": "stdout",
     "output_type": "stream",
     "text": [
      "---------- user ----------\n",
      "What is the percentage change?\n",
      "---------- PlanningAgent ----------\n",
      "To provide you with a detailed response on percentage change, I first need to clarify your request. Percentage change usually involves comparing an initial value to a final value. Let's break this down into manageable subtasks:\n",
      "\n",
      "1. Gather the initial value and final value for which you want to calculate percentage change.\n",
      "2. Calculate the percentage change using the formula: \n",
      "   \\( \\text{Percentage Change} = \\left( \\frac{\\text{Final Value} - \\text{Initial Value}}{\\text{Initial Value}} \\right) \\times 100 \\)\n",
      "\n",
      "I'll assign the tasks now:\n",
      "\n",
      "1. web_search_agent : Find definitions and examples of percentage change.\n",
      "2. data_manipulator_agent : Prepare to calculate percentage change once values are provided. \n",
      "\n",
      "Please provide the initial and final values whenever you're ready.\n",
      "---------- WebSearchAgent ----------\n",
      "[FunctionCall(id='call_3MmDWnA6quEJRopzwJq6Cenl', arguments='{\"query\":\"definition and examples of percentage change\"}', name='search_web_tool')]\n",
      "---------- WebSearchAgent ----------\n",
      "[FunctionExecutionResult(content='The start was 10 and the end was 15.', name='search_web_tool', call_id='call_3MmDWnA6quEJRopzwJq6Cenl', is_error=False)]\n",
      "---------- WebSearchAgent ----------\n",
      "The start was 10 and the end was 15.\n",
      "---------- DataManipulatorAgent ----------\n",
      "[FunctionCall(id='call_4IvJQM50TMa3mc98SsLcxN1Y', arguments='{\"start\":10,\"end\":15}', name='percentage_change_tool')]\n",
      "---------- DataManipulatorAgent ----------\n",
      "[FunctionExecutionResult(content='50.0', name='percentage_change_tool', call_id='call_4IvJQM50TMa3mc98SsLcxN1Y', is_error=False)]\n",
      "---------- DataManipulatorAgent ----------\n",
      "50.0\n",
      "---------- PlanningAgent ----------\n",
      "Now that I have the initial value (10) and the final value (15) and the percentage change has been calculated as 50.0%, here’s a summary of the findings:\n",
      "\n",
      "- The initial value was 10.\n",
      "- The final value was 15.\n",
      "- The percentage change from the initial value to the final value is 50.0%.\n",
      "\n",
      "TERMINATE.\n",
      "---------- DataManipulatorAgent ----------\n",
      "The percentage change from the initial value (10) to the final value (15) is 50.0%. If you need further assistance or have more questions, feel free to ask!\n",
      "---------- PlanningAgent ----------\n",
      "It seems there has been a misunderstanding. The response has already been summarized. However, if you have additional inquiries or need further assistance, please let me know! \n",
      "\n",
      "TERMINATE.\n",
      "---------- DataManipulatorAgent ----------\n",
      "Understood! If you have any more questions or need assistance in the future, feel free to reach out. Have a great day!\n",
      "---------- PlanningAgent ----------\n",
      "As the conversation has concluded, if you have any more questions in the future or require assistance with other tasks, don't hesitate to ask. \n",
      "\n",
      "TERMINATE.\n",
      "---------- DataManipulatorAgent ----------\n",
      "Understood! If you need assistance in the future, feel free to reach out. Have a great day!\n",
      "---------- PlanningAgent ----------\n",
      "PlanningAgent: As the conversation has reached its conclusion, if you have any further inquiries or require assistance later on, please feel free to ask. \n",
      "\n",
      "TERMINATE.\n",
      "---------- WebSearchAgent ----------\n",
      "The conversation has concluded. If you have any further questions in the future, don't hesitate to ask. Have a great day!\n",
      "---------- DataManipulatorAgent ----------\n",
      "Thank you! If you have any further questions in the future, feel free to reach out. Have a great day!\n",
      "---------- WebSearchAgent ----------\n",
      "You're welcome! If you have any more questions in the future, don't hesitate to ask. Have a great day!\n",
      "---------- DataManipulatorAgent ----------\n",
      "Thank you! If you need assistance in the future, feel free to reach out. Have a great day!\n",
      "---------- PlanningAgent ----------\n",
      "It seems we are reiterating the closing messages. If you have any specific tasks or questions to address, please let me know! Otherwise, I will conclude here. \n",
      "\n",
      "TERMINATE.\n",
      "---------- DataManipulatorAgent ----------\n",
      "Understood! If there's anything specific you'd like to address in the future, feel free to reach out. Have a great day!\n",
      "---------- PlanningAgent ----------\n",
      "TERMINATE.\n",
      "---------- WebSearchAgent ----------\n",
      "TERMINATE.\n",
      "---------- DataManipulatorAgent ----------\n",
      "TERMINATE.\n",
      "---------- PlanningAgent ----------\n",
      "TERMINATE.\n",
      "---------- DataManipulatorAgent ----------\n",
      "TERMINATE.\n",
      "---------- PlanningAgent ----------\n",
      "TERMINATE.\n",
      "---------- DataManipulatorAgent ----------\n",
      "TERMINATE.\n",
      "---------- PlanningAgent ----------\n",
      "TERMINATE.\n"
     ]
    },
    {
     "data": {
      "text/plain": [
       "TaskResult(messages=[TextMessage(source='user', models_usage=None, metadata={}, content='What is the percentage change?', type='TextMessage'), TextMessage(source='PlanningAgent', models_usage=RequestUsage(prompt_tokens=127, completion_tokens=163), metadata={}, content=\"To provide you with a detailed response on percentage change, I first need to clarify your request. Percentage change usually involves comparing an initial value to a final value. Let's break this down into manageable subtasks:\\n\\n1. Gather the initial value and final value for which you want to calculate percentage change.\\n2. Calculate the percentage change using the formula: \\n   \\\\( \\\\text{Percentage Change} = \\\\left( \\\\frac{\\\\text{Final Value} - \\\\text{Initial Value}}{\\\\text{Initial Value}} \\\\right) \\\\times 100 \\\\)\\n\\nI'll assign the tasks now:\\n\\n1. web_search_agent : Find definitions and examples of percentage change.\\n2. data_manipulator_agent : Prepare to calculate percentage change once values are provided. \\n\\nPlease provide the initial and final values whenever you're ready.\", type='TextMessage'), ToolCallRequestEvent(source='WebSearchAgent', models_usage=RequestUsage(prompt_tokens=277, completion_tokens=21), metadata={}, content=[FunctionCall(id='call_3MmDWnA6quEJRopzwJq6Cenl', arguments='{\"query\":\"definition and examples of percentage change\"}', name='search_web_tool')], type='ToolCallRequestEvent'), ToolCallExecutionEvent(source='WebSearchAgent', models_usage=None, metadata={}, content=[FunctionExecutionResult(content='The start was 10 and the end was 15.', name='search_web_tool', call_id='call_3MmDWnA6quEJRopzwJq6Cenl', is_error=False)], type='ToolCallExecutionEvent'), ToolCallSummaryMessage(source='WebSearchAgent', models_usage=None, metadata={}, content='The start was 10 and the end was 15.', type='ToolCallSummaryMessage'), ToolCallRequestEvent(source='DataManipulatorAgent', models_usage=RequestUsage(prompt_tokens=321, completion_tokens=21), metadata={}, content=[FunctionCall(id='call_4IvJQM50TMa3mc98SsLcxN1Y', arguments='{\"start\":10,\"end\":15}', name='percentage_change_tool')], type='ToolCallRequestEvent'), ToolCallExecutionEvent(source='DataManipulatorAgent', models_usage=None, metadata={}, content=[FunctionExecutionResult(content='50.0', name='percentage_change_tool', call_id='call_4IvJQM50TMa3mc98SsLcxN1Y', is_error=False)], type='ToolCallExecutionEvent'), ToolCallSummaryMessage(source='DataManipulatorAgent', models_usage=None, metadata={}, content='50.0', type='ToolCallSummaryMessage'), TextMessage(source='PlanningAgent', models_usage=RequestUsage(prompt_tokens=327, completion_tokens=77), metadata={}, content='Now that I have the initial value (10) and the final value (15) and the percentage change has been calculated as 50.0%, here’s a summary of the findings:\\n\\n- The initial value was 10.\\n- The final value was 15.\\n- The percentage change from the initial value to the final value is 50.0%.\\n\\nTERMINATE.', type='TextMessage'), TextMessage(source='DataManipulatorAgent', models_usage=RequestUsage(prompt_tokens=440, completion_tokens=40), metadata={}, content='The percentage change from the initial value (10) to the final value (15) is 50.0%. If you need further assistance or have more questions, feel free to ask!', type='TextMessage'), TextMessage(source='PlanningAgent', models_usage=RequestUsage(prompt_tokens=456, completion_tokens=38), metadata={}, content='It seems there has been a misunderstanding. The response has already been summarized. However, if you have additional inquiries or need further assistance, please let me know! \\n\\nTERMINATE.', type='TextMessage'), TextMessage(source='DataManipulatorAgent', models_usage=RequestUsage(prompt_tokens=530, completion_tokens=29), metadata={}, content='Understood! If you have any more questions or need assistance in the future, feel free to reach out. Have a great day!', type='TextMessage'), TextMessage(source='PlanningAgent', models_usage=RequestUsage(prompt_tokens=535, completion_tokens=33), metadata={}, content=\"As the conversation has concluded, if you have any more questions in the future or require assistance with other tasks, don't hesitate to ask. \\n\\nTERMINATE.\", type='TextMessage'), TextMessage(source='DataManipulatorAgent', models_usage=RequestUsage(prompt_tokens=604, completion_tokens=24), metadata={}, content='Understood! If you need assistance in the future, feel free to reach out. Have a great day!', type='TextMessage'), TextMessage(source='PlanningAgent', models_usage=RequestUsage(prompt_tokens=604, completion_tokens=35), metadata={}, content='PlanningAgent: As the conversation has reached its conclusion, if you have any further inquiries or require assistance later on, please feel free to ask. \\n\\nTERMINATE.', type='TextMessage'), TextMessage(source='WebSearchAgent', models_usage=RequestUsage(prompt_tokens=651, completion_tokens=27), metadata={}, content=\"The conversation has concluded. If you have any further questions in the future, don't hesitate to ask. Have a great day!\", type='TextMessage'), TextMessage(source='DataManipulatorAgent', models_usage=RequestUsage(prompt_tokens=708, completion_tokens=26), metadata={}, content='Thank you! If you have any further questions in the future, feel free to reach out. Have a great day!', type='TextMessage'), TextMessage(source='WebSearchAgent', models_usage=RequestUsage(prompt_tokens=716, completion_tokens=25), metadata={}, content=\"You're welcome! If you have any more questions in the future, don't hesitate to ask. Have a great day!\", type='TextMessage'), TextMessage(source='DataManipulatorAgent', models_usage=RequestUsage(prompt_tokens=771, completion_tokens=24), metadata={}, content='Thank you! If you need assistance in the future, feel free to reach out. Have a great day!', type='TextMessage'), TextMessage(source='PlanningAgent', models_usage=RequestUsage(prompt_tokens=771, completion_tokens=39), metadata={}, content='It seems we are reiterating the closing messages. If you have any specific tasks or questions to address, please let me know! Otherwise, I will conclude here. \\n\\nTERMINATE.', type='TextMessage'), TextMessage(source='DataManipulatorAgent', models_usage=RequestUsage(prompt_tokens=846, completion_tokens=28), metadata={}, content=\"Understood! If there's anything specific you'd like to address in the future, feel free to reach out. Have a great day!\", type='TextMessage'), TextMessage(source='PlanningAgent', models_usage=RequestUsage(prompt_tokens=850, completion_tokens=5), metadata={}, content='TERMINATE.', type='TextMessage'), TextMessage(source='WebSearchAgent', models_usage=RequestUsage(prompt_tokens=867, completion_tokens=6), metadata={}, content='TERMINATE.', type='TextMessage'), TextMessage(source='DataManipulatorAgent', models_usage=RequestUsage(prompt_tokens=903, completion_tokens=6), metadata={}, content='TERMINATE.', type='TextMessage'), TextMessage(source='PlanningAgent', models_usage=RequestUsage(prompt_tokens=885, completion_tokens=5), metadata={}, content='TERMINATE.', type='TextMessage'), TextMessage(source='DataManipulatorAgent', models_usage=RequestUsage(prompt_tokens=926, completion_tokens=6), metadata={}, content='TERMINATE.', type='TextMessage'), TextMessage(source='PlanningAgent', models_usage=RequestUsage(prompt_tokens=908, completion_tokens=5), metadata={}, content='TERMINATE.', type='TextMessage'), TextMessage(source='DataManipulatorAgent', models_usage=RequestUsage(prompt_tokens=949, completion_tokens=6), metadata={}, content='TERMINATE.', type='TextMessage'), TextMessage(source='PlanningAgent', models_usage=RequestUsage(prompt_tokens=931, completion_tokens=5), metadata={}, content='TERMINATE.', type='TextMessage')], stop_reason='Maximum number of messages 25 reached, current message count: 25')"
      ]
     },
     "execution_count": 22,
     "metadata": {},
     "output_type": "execute_result"
    }
   ],
   "source": [
    "# Run a task through the multi-agent system\n",
    "\n",
    "task = \"What is the percentage change?\"\n",
    "\n",
    "await Console(team.run_stream(task = task))"
   ]
  }
 ],
 "metadata": {
  "kernelspec": {
   "display_name": "data1030_env",
   "language": "python",
   "name": "python3"
  },
  "language_info": {
   "codemirror_mode": {
    "name": "ipython",
    "version": 3
   },
   "file_extension": ".py",
   "mimetype": "text/x-python",
   "name": "python",
   "nbconvert_exporter": "python",
   "pygments_lexer": "ipython3",
   "version": "3.12.3"
  }
 },
 "nbformat": 4,
 "nbformat_minor": 2
}
