{
 "cells": [
  {
   "cell_type": "code",
   "execution_count": 17,
   "metadata": {},
   "outputs": [],
   "source": [
    "import os\n",
    "import getpass\n",
    "\n",
    "import pandas as pd\n",
    "import matplotlib.pyplot as plt\n",
    "\n",
    "import requests\n",
    "import json\n",
    "\n",
    "\n",
    "import asyncio\n",
    "\n",
    "from typing import Sequence\n",
    "\n",
    "import autogen\n",
    "from autogen_core.models import UserMessage\n",
    "from autogen_core.tools import FunctionTool\n",
    "from autogen_ext.models.openai import OpenAIChatCompletionClient\n",
    "from autogen_ext.tools.langchain import LangChainToolAdapter\n",
    "from langchain_experimental.tools.python.tool import PythonAstREPLTool\n",
    "from autogen_agentchat.agents import AssistantAgent, UserProxyAgent\n",
    "from autogen_agentchat.conditions import TextMentionTermination, TimeoutTermination, MaxMessageTermination\n",
    "from autogen_agentchat.messages import AgentEvent, ChatMessage, TextMessage, MultiModalMessage\n",
    "from autogen_agentchat.teams import RoundRobinGroupChat, SelectorGroupChat\n",
    "from autogen_agentchat.ui import Console\n",
    "from autogen_agentchat.base import TaskResult\n",
    "from autogen_core import CancellationToken"
   ]
  },
  {
   "cell_type": "code",
   "execution_count": null,
   "metadata": {},
   "outputs": [],
   "source": [
    "# Load your OPENAI API key\n",
    "if not os.environ.get(\"OPENAI_API_KEY\"):\n",
    "    os.environ[\"OPENAI_API_KEY\"] = getpass.getpass(\"Enter your OpenAI API key: \")\n",
    "\n",
    "# Load your Spoonacular API key\n",
    "if not os.environ.get('SPOONACULAR_API_KEY'):\n",
    "    os.environ['SPOONACULAR_API_KEY'] = getpass.getpass(\"Enter your Spoonacular API key: \")"
   ]
  },
  {
   "cell_type": "code",
   "execution_count": null,
   "metadata": {},
   "outputs": [],
   "source": [
    "# Create OpenAI model client for inference\n",
    "openai_model_client = OpenAIChatCompletionClient(\n",
    "    model = \"gpt-4o-mini\",\n",
    "    api_key = os.environ.get(\"OPENAI_API_KEY\")\n",
    ")\n",
    "\n",
    "SPOONACULAR_API_BASE_URL = f'https://api.spoonacular.com/recipes/complexSearch'"
   ]
  },
  {
   "cell_type": "code",
   "execution_count": 13,
   "metadata": {},
   "outputs": [],
   "source": [
    "# Define all model tools\n",
    "async def search_web_tool(query: str) -> str:\n",
    "    \"\"\"Searches web for relevant information.\"\"\"\n",
    "    # Call API!\n",
    "    return \"The start was 10 and the end was 15.\"\n",
    "\n",
    "def percentage_change_tool(start: float, end: float) -> float:\n",
    "    \"\"\"Finds the percentage change between start and end.\"\"\"\n",
    "    return ((end - start) / start) * 100\n",
    "\n",
    "def addition_tool(first: float, second: float) -> float:\n",
    "    \"\"\"Adds two numbers together.\"\"\"\n",
    "    return first + second"
   ]
  },
  {
   "cell_type": "code",
   "execution_count": 14,
   "metadata": {},
   "outputs": [],
   "source": [
    "user_agent = UserProxyAgent(\n",
    "    name = \"UserProxyAgent\",\n",
    "    description = \"Proxy agent for user interactions.\",\n",
    ")\n",
    "\n",
    "web_search_agent = AssistantAgent(\n",
    "    name = \"WebSearchAgent\",\n",
    "    model_client = openai_model_client,\n",
    "    description = \"A web search agent for relevant results.\",\n",
    "    tools = [search_web_tool],\n",
    "    system_message = \"\"\"\n",
    "        You are a web search agent.\n",
    "        Your only tool is search_web_tool - use it to find information.\n",
    "        You make only one search call at a time.\n",
    "        Once you have the results, you never do calculations based on them.\n",
    "    \"\"\"\n",
    ")\n",
    "\n",
    "data_manipulator_agent = AssistantAgent(\n",
    "    name = \"DataManipulatorAgent\",\n",
    "    model_client = openai_model_client,\n",
    "    description = \"A data manipulator agent. Useful for performing calculations and ranking items according to relevance.\",\n",
    "    tools = [percentage_change_tool, addition_tool],\n",
    "    system_message = \"\"\"\n",
    "        You are an expert data manipulator agent.\n",
    "        Given the tasks you have been assigned, you should analyze the data and provide results.\n",
    "    \"\"\"\n",
    ")\n",
    "\n",
    "writer_agent = AssistantAgent(\n",
    "    name = \"WriterAgent\",\n",
    "    model_client = openai_model_client,\n",
    "    description = \"A writer agent. All writing should be in English, make sense, and be perfectly clear.\",\n",
    "    system_message = \"\"\"\n",
    "        You are an expert writer, on par with the best in the world.\n",
    "        Given the data that you have received, you should write a full, cohesive, and ranked report about it that is directly in line with the user's request.\n",
    "        You should emphasize and display adherence to all user filters that have been requested.\n",
    "    \"\"\"\n",
    ")"
   ]
  },
  {
   "cell_type": "code",
   "execution_count": 15,
   "metadata": {},
   "outputs": [],
   "source": [
    "# Set up the multi-agent team, rotation, and termination conditions\n",
    "\n",
    "text_mention_termination = TextMentionTermination(\"APPROVE\")\n",
    "max_messages_termination = MaxMessageTermination(max_messages = 25)\n",
    "# timeout_termination = TimeoutTermination(timeout_seconds = 10)\n",
    "\n",
    "tm_termination = text_mention_termination | max_messages_termination\n",
    "\n",
    "team = RoundRobinGroupChat(\n",
    "    participants = [user_agent, web_search_agent, data_manipulator_agent, writer_agent], \n",
    "    termination_condition = text_mention_termination\n",
    ")"
   ]
  },
  {
   "cell_type": "code",
   "execution_count": 16,
   "metadata": {},
   "outputs": [
    {
     "name": "stdout",
     "output_type": "stream",
     "text": [
      "---------- user ----------\n",
      "\n",
      "---------- UserProxyAgent ----------\n",
      "APPROVE\n"
     ]
    },
    {
     "data": {
      "text/plain": [
       "TaskResult(messages=[TextMessage(source='user', models_usage=None, metadata={}, content='', type='TextMessage'), UserInputRequestedEvent(source='UserProxyAgent', models_usage=None, metadata={}, request_id='7932e8a7-8531-4d8b-906b-cc01a3e1b86e', content='', type='UserInputRequestedEvent'), TextMessage(source='UserProxyAgent', models_usage=None, metadata={}, content='APPROVE', type='TextMessage')], stop_reason=\"Text 'APPROVE' mentioned\")"
      ]
     },
     "execution_count": 16,
     "metadata": {},
     "output_type": "execute_result"
    }
   ],
   "source": [
    "# Run a task through the multi-agent system\n",
    "await team.reset()\n",
    "\n",
    "task = \"\"\n",
    "\n",
    "await Console(team.run_stream(task = task))"
   ]
  }
 ],
 "metadata": {
  "kernelspec": {
   "display_name": "data1030_env",
   "language": "python",
   "name": "python3"
  },
  "language_info": {
   "codemirror_mode": {
    "name": "ipython",
    "version": 3
   },
   "file_extension": ".py",
   "mimetype": "text/x-python",
   "name": "python",
   "nbconvert_exporter": "python",
   "pygments_lexer": "ipython3",
   "version": "3.12.3"
  }
 },
 "nbformat": 4,
 "nbformat_minor": 2
}
